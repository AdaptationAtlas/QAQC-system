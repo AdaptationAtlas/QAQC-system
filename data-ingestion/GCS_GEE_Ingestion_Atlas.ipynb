{
 "cells": [
  {
   "cell_type": "markdown",
   "metadata": {
    "id": "QMreof8kv3-y"
   },
   "source": [
    "# Image Ingestion workflow"
   ]
  },
  {
   "cell_type": "markdown",
   "metadata": {
    "tags": []
   },
   "source": [
    "The image ingestion process requires the installation earth engine python API in the local computer.\n",
    "\n",
    "### API Setup and authorization"
   ]
  },
  {
   "cell_type": "code",
   "execution_count": null,
   "metadata": {
    "colab": {
     "base_uri": "https://localhost:8080/",
     "height": 304
    },
    "executionInfo": {
     "elapsed": 192,
     "status": "error",
     "timestamp": 1623862531103,
     "user": {
      "displayName": "Oscar Bautista",
      "photoUrl": "",
      "userId": "11110811386628579530"
     },
     "user_tz": 300
    },
    "id": "44zfwmJ-v2is",
    "outputId": "84cfecad-5a1d-426d-8052-bd8d685ccc06"
   },
   "outputs": [],
   "source": [
    "#import ee"
   ]
  },
  {
   "cell_type": "code",
   "execution_count": null,
   "metadata": {},
   "outputs": [],
   "source": [
    "#print(ee.__version__)"
   ]
  },
  {
   "cell_type": "markdown",
   "metadata": {},
   "source": [
    "The authorization and login process of the gcloud must be performed only the first time"
   ]
  },
  {
   "cell_type": "code",
   "execution_count": null,
   "metadata": {},
   "outputs": [],
   "source": [
    "#!gcloud auth login"
   ]
  },
  {
   "cell_type": "markdown",
   "metadata": {},
   "source": [
    "Set the Google Cloud project (only first time)"
   ]
  },
  {
   "cell_type": "code",
   "execution_count": null,
   "metadata": {},
   "outputs": [],
   "source": [
    "#!gcloud config set project adaptation-atlas-project"
   ]
  },
  {
   "cell_type": "markdown",
   "metadata": {},
   "source": [
    "Create the key for the service account. \n",
    "**The key json file must be stored safely** as it allows anyone to access the data stored in the bucket"
   ]
  },
  {
   "cell_type": "code",
   "execution_count": null,
   "metadata": {},
   "outputs": [],
   "source": [
    "# SERVICE_ACCOUNT='atlasdeveloper@adaptation-atlas-project.iam.gserviceaccount.com'\n",
    "# KEY = 'my-secret-key.json'\n",
    "# !gcloud iam service-accounts keys create {KEY} --iam-account {SERVICE_ACCOUNT}"
   ]
  },
  {
   "cell_type": "markdown",
   "metadata": {},
   "source": [
    "Use the key and the credentials to initialize the API (Only first time)"
   ]
  },
  {
   "cell_type": "code",
   "execution_count": null,
   "metadata": {},
   "outputs": [],
   "source": [
    "# service_account = 'atlasdeveloper@adaptation-atlas-project.iam.gserviceaccount.com'\n",
    "# credentials = ee.ServiceAccountCredentials(service_account, KEY)\n",
    "# ee.Initialize(credentials)"
   ]
  },
  {
   "cell_type": "markdown",
   "metadata": {},
   "source": [
    "### General guidelines for data ingestion"
   ]
  },
  {
   "cell_type": "markdown",
   "metadata": {
    "tags": []
   },
   "source": [
    "1. Data should be homogeneous\n",
    "   - No-data values should be the same for all images of a collection\n",
    "   - File names should not have spaces\n",
    "2. Files of a collection must be uploaded to the same folder in the GCS bucket (No subfolders)\n",
    "3. File names must be unique, otherwise the name will be numbered when uploaded to GCS\n",
    "3. Data must be ingested to a GEE collection, No-data values of files must be specified when they are different from 'nan'\n",
    "4. New Collections must be shared with the app\n",
    "5. New Collections must be added to the collection list in the GEE script (var Collections)"
   ]
  },
  {
   "cell_type": "markdown",
   "metadata": {},
   "source": [
    "Explore the buckets in the GCS project (optional)"
   ]
  },
  {
   "cell_type": "code",
   "execution_count": null,
   "metadata": {},
   "outputs": [],
   "source": [
    "import ee\n",
    "import os\n",
    "from google.cloud import storage\n",
    "client = storage.Client()\n",
    "storage_client = storage.Client(project='adaptation-atlas-project')\n",
    "\n",
    "buckets = client.list_buckets()\n",
    "\n",
    "print(\"Buckets in {}:\".format(client.project))\n",
    "for item in buckets:\n",
    "     print(\"\\t\" + item.name)\n"
   ]
  },
  {
   "cell_type": "markdown",
   "metadata": {},
   "source": [
    "Set the name of the collection where the images will be ingested. Ideally the collection should have the same name as the folder in the GCS buecket."
   ]
  },
  {
   "cell_type": "code",
   "execution_count": null,
   "metadata": {
    "tags": []
   },
   "outputs": [],
   "source": [
    "#collection = 'results_mean_class_crop' \n",
    "collection = 'Test'\n",
    "#collection = 'masks'"
   ]
  },
  {
   "cell_type": "markdown",
   "metadata": {},
   "source": [
    "Create a GEE Image collection (Optional)"
   ]
  },
  {
   "cell_type": "code",
   "execution_count": null,
   "metadata": {},
   "outputs": [],
   "source": [
    "#!earthengine create collection projects/adaptation-atlas-project/assets/{collection}"
   ]
  },
  {
   "cell_type": "markdown",
   "metadata": {},
   "source": [
    "Create a list of images in a bucket"
   ]
  },
  {
   "cell_type": "code",
   "execution_count": null,
   "metadata": {},
   "outputs": [],
   "source": [
    "#imgs = !gsutil ls  gs://adaptation-atlas/results_mean_class_crop/*.tif\n",
    "imgs = !gsutil ls gs://adaptation-atlas/{collection}/*.tif"
   ]
  },
  {
   "cell_type": "markdown",
   "metadata": {},
   "source": [
    "Batch ingestion of the images found in the Bucket"
   ]
  },
  {
   "cell_type": "code",
   "execution_count": null,
   "metadata": {},
   "outputs": [],
   "source": [
    "import sys\n",
    "\n",
    "for i, element in enumerate(imgs):\n",
    "    print(i)\n",
    "    image = imgs[i]\n",
    "    #print(type(image))\n",
    "    #print(image)\n",
    "    path = os.path.splitext(image)[0]\n",
    "#   print(result)\n",
    "    name = os.path.split(path)\n",
    "    name = name[1]\n",
    "    print(name)\n",
    "    project = 'adaptation-atlas-project'\n",
    "#    !earthengine upload image --asset_id=projects/adaptation-atlas-project/assets/{collection}/{name} {image} --nodata_value=-2147483648\n",
    "    !earthengine upload image --asset_id=projects/adaptation-atlas-project/assets/{collection}/{name} {image}\n",
    "#    a = 'gsutil ls gs://adaptation-atlas/Test_files/*.tif'\n",
    "\n"
   ]
  },
  {
   "cell_type": "markdown",
   "metadata": {},
   "source": [
    "Delete a Collection including all images (Optional)"
   ]
  },
  {
   "cell_type": "code",
   "execution_count": null,
   "metadata": {
    "tags": []
   },
   "outputs": [],
   "source": [
    "#!earthengine rm --recursive projects/adaptation-atlas-project/assets/Test"
   ]
  },
  {
   "cell_type": "markdown",
   "metadata": {},
   "source": []
  }
 ],
 "metadata": {
  "colab": {
   "authorship_tag": "ABX9TyNi2ZXIPI7tzIMYUTqIH6a3",
   "name": "Untitled0.ipynb",
   "provenance": []
  },
  "kernelspec": {
   "display_name": "Python 3",
   "language": "python",
   "name": "python3"
  },
  "language_info": {
   "codemirror_mode": {
    "name": "ipython",
    "version": 3
   },
   "file_extension": ".py",
   "mimetype": "text/x-python",
   "name": "python",
   "nbconvert_exporter": "python",
   "pygments_lexer": "ipython3",
   "version": "3.6.13"
  }
 },
 "nbformat": 4,
 "nbformat_minor": 4
}
